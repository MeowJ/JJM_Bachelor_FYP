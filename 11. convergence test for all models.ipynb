{
 "cells": [
  {
   "cell_type": "markdown",
   "metadata": {},
   "source": [
    "convergence test of MC model"
   ]
  },
  {
   "cell_type": "code",
   "execution_count": null,
   "metadata": {},
   "outputs": [],
   "source": [
    "import numpy as np\n",
    "import scipy.stats\n",
    "import matplotlib.pyplot as plt\n",
    "from math import sqrt, log, exp\n",
    "from scipy import stats, linalg, interpolate\n",
    "import scipy\n",
    "import random\n",
    "import math"
   ]
  },
  {
   "cell_type": "code",
   "execution_count": 318,
   "metadata": {},
   "outputs": [],
   "source": [
    "def get_bs_price(s, sigma, t, r, k):\n",
    "    y1 = (np.log(s/k) + (r + 0.5*(sigma**2))* t) / (sigma * np.sqrt(t))\n",
    "    y2 = (np.log(s/k) + (r - 0.5*(sigma**2)) * t) / (sigma * np.sqrt(t))\n",
    "    cdf1 = scipy.stats.norm.cdf(y1)\n",
    "    cdf2 = scipy.stats.norm.cdf(y2)\n",
    "    price = s * cdf1 - np.exp(-r * t) * k * cdf2\n",
    "    return price"
   ]
  },
  {
   "cell_type": "code",
   "execution_count": 319,
   "metadata": {},
   "outputs": [],
   "source": [
    "def call_MS(S0, sigma, T, r, K, iterations):\n",
    "        \n",
    "    option_price=np.zeros([iterations,2])\n",
    "    rand=np.random.normal(0,1,[1,iterations])\n",
    "    #find the stick price by using MC method\n",
    "    stock_price=S0*np.exp(T*(r-0.5*sigma**2)+sigma*np.sqrt(T)*rand)\n",
    "        \n",
    "    #Find the intrisic value\n",
    "    option_price[:,1]=stock_price-K\n",
    "    \n",
    "    #plt.plot(option_price[:150,1])\n",
    "    #plt.title('MC model')\n",
    "    #plt.ylabel('Option price')\n",
    "    #plt.xlabel('Iterations')\n",
    "    #plt.grid(True)\n",
    "    #plt.show()\n",
    "        \n",
    "    average=np.sum(np.amax(option_price,axis=1))/float(iterations)\n",
    "        #consider the time value\n",
    "    price=np.exp(-1.0*r*T)*average\n",
    "    return price"
   ]
  },
  {
   "cell_type": "code",
   "execution_count": 348,
   "metadata": {},
   "outputs": [],
   "source": [
    "def FDM_Explicit_price(S_0, sigma, Tm, r, K, GridSize):\n",
    "    TGrid = GridSize\n",
    "    SGrid = GridSize\n",
    "    Smax = 2 * S_0\n",
    "    Tmax = Tm\n",
    "    KGrid = np.linspace(0, Smax, SGrid)\n",
    "    T = np.linspace(0, Tmax, TGrid)\n",
    "    dt = T[1] - T[0]\n",
    "    dS = KGrid[1] - KGrid[0]\n",
    "    prices = np.zeros((SGrid, TGrid))\n",
    "      \n",
    "    prices[:,TGrid - 1] = np.maximum(KGrid - K, 0)\n",
    "    prices[SGrid - 1,:] = (KGrid[SGrid - 1] - K) * np.exp((r) * T)\n",
    "    prices[1,:] = 0\n",
    "    \n",
    "    a = 0.5 * dt * (sigma**2 * KGrid/(dS**2) - (r)/dS)* KGrid\n",
    "    b = 1 - dt * (sigma**2 * KGrid**2/(dS**2) + (r))\n",
    "    c = 0.5 * dt * (sigma**2 * KGrid/(dS**2) + (r)/dS)* KGrid\n",
    "\n",
    "    for j in range(TGrid - 2, 0, -1) :\n",
    "        for i in range(1, SGrid - 2) :\n",
    "            prices[i,j] = a[i]*prices[i-1, j+1] + b[i]*prices[i, j+1] + c[i]*prices[i+1, j+1]\n",
    "\n",
    "    expFDMPrice = interpolate.interp1d(KGrid, prices[:,1])(S_0)\n",
    "    return expFDMPrice"
   ]
  },
  {
   "cell_type": "code",
   "execution_count": 349,
   "metadata": {},
   "outputs": [],
   "source": [
    "def FDM_Implicit_price(S_0, sigma, Tm, r, K, GridSize):\n",
    "    TGrid = GridSize\n",
    "    SGrid = GridSize\n",
    "    Smax = 2 * S_0\n",
    "    Tmax = Tm\n",
    "    KGrid = np.linspace(0, Smax, SGrid)\n",
    "    T = np.linspace(0, Tmax, TGrid)\n",
    "    dt = T[1] - T[0]\n",
    "    dS = KGrid[1] - KGrid[0]\n",
    "    prices = np.zeros((SGrid, TGrid))\n",
    "      \n",
    "    prices[:,TGrid - 1] = np.maximum(KGrid - K, 0)\n",
    "    prices[SGrid - 1,:] = (KGrid[SGrid - 1] - K) * np.exp((r) * T)\n",
    "    prices[1,:] = 0\n",
    "    \n",
    "    a = 0.5 * dt*((r)/dS - sigma**2 * KGrid/(dS**2)) * KGrid\n",
    "    b = 1 + dt * (sigma**2 * KGrid**2/(dS**2) + (r))\n",
    "    c = - 0.5 * dt*((r)/dS + sigma**2 * KGrid/(dS**2)) * KGrid\n",
    "\n",
    "    coeff = np.diag(a[2:SGrid],-1) + np.diag(b[1:SGrid]) + np.diag(c[1:SGrid-1],1)\n",
    "    P, L, U = scipy.linalg.lu(coeff)\n",
    "    Boundary = np.zeros((SGrid - 1,1))\n",
    "\n",
    "    for j in range(TGrid - 2, 0, -1) :\n",
    "        Boundary[0] = - a[2] * prices[1,j]\n",
    "        prices[1:SGrid, j:j+1] = (linalg.inv(U).dot(linalg.inv(L).dot(prices[1:SGrid, (j + 1):(j + 2)] + Boundary)))\n",
    "\n",
    "    impFDMPrice = interpolate.interp1d(KGrid, prices[:,1])(S_0)\n",
    "    return impFDMPrice"
   ]
  },
  {
   "cell_type": "code",
   "execution_count": 495,
   "metadata": {},
   "outputs": [],
   "source": [
    "def FDM_CN_price(S_0, sigma, Tm, r, K, GridSize):\n",
    "    TGrid = GridSize\n",
    "    SGrid = GridSize\n",
    "    Smax = 2 * S_0\n",
    "    Tmax = Tm\n",
    "    KGrid = np.linspace(0, Smax, SGrid)\n",
    "    T = np.linspace(0, Tmax, TGrid)\n",
    "    dt = T[1] - T[0]\n",
    "    dS = KGrid[1] - KGrid[0]\n",
    "    prices = np.zeros((SGrid, TGrid))\n",
    "     \n",
    "    prices[:,TGrid - 1] = np.maximum(KGrid - K, 0)\n",
    "    prices[SGrid - 1,:] = (KGrid[SGrid - 1] - K) * np.exp((r) * T)\n",
    "    prices[1,:] = 0\n",
    "    \n",
    "    a = 0.25*dt*( -(r)/dS + (sigma**2) * KGrid/dS**2)*KGrid\n",
    "    b = -0.5*dt*((sigma**2) * (KGrid**2)/(dS**2) + (r))\n",
    "    c = 0.25*dt*((r)/dS + (sigma**2) * KGrid/dS**2)*KGrid\n",
    "\n",
    "    coeff = -np.diag(a[2:SGrid],-1) + np.diag(1 - b[1:SGrid]) - np.diag(c[1:SGrid-1],1)\n",
    "    P, L, U = scipy.linalg.lu(coeff)\n",
    "    D = np.diag(a[2:SGrid],-1) + np.diag(1 + b[1:SGrid]) + np.diag(c[1:SGrid-1],1)\n",
    "    Boundary = np.zeros((SGrid - 1,1))\n",
    "\n",
    "    for j in range(TGrid - 2, 0, -1) :\n",
    "        Boundary[0] = a[1] * (prices[0,j] + prices[0,j+1]);\n",
    "        Boundary[SGrid - 2] = c[SGrid - 1] * (prices[SGrid - 1,j] + prices[SGrid - 1,j+1]);\n",
    "        prices[1:SGrid, j:j+1]= linalg.inv(U).dot(linalg.inv(L).dot(D.dot(prices[1:SGrid, (j + 1):(j + 2)] + Boundary)));\n",
    "    \n",
    "    CNFDMPrice = interpolate.interp1d(KGrid, prices[:,1])(S_0)\n",
    "\n",
    "    return CNFDMPrice"
   ]
  },
  {
   "cell_type": "markdown",
   "metadata": {},
   "source": [
    "set the range of iterations"
   ]
  },
  {
   "cell_type": "code",
   "execution_count": 350,
   "metadata": {},
   "outputs": [],
   "source": [
    "T = 1\n",
    "S_0 = 100\n",
    "r = 0.1\n",
    "sigma = 0.2\n",
    "K = 100\n",
    "iterations = np.linspace(1, 10000, num=1000)"
   ]
  },
  {
   "cell_type": "code",
   "execution_count": 351,
   "metadata": {},
   "outputs": [
    {
     "name": "stdout",
     "output_type": "stream",
     "text": [
      "13.2696765847\n"
     ]
    }
   ],
   "source": [
    "price = get_bs_price(S_0, sigma, T, r, K)\n",
    "print(price)"
   ]
  },
  {
   "cell_type": "code",
   "execution_count": 352,
   "metadata": {},
   "outputs": [
    {
     "name": "stdout",
     "output_type": "stream",
     "text": [
      "0.0\n"
     ]
    }
   ],
   "source": [
    "prices = np.zeros(len(iterations))\n",
    "for i in range(len(iterations)):\n",
    "    prices[i]=price\n",
    "mcprices = np.zeros(len(iterations))\n",
    "print(mcprices[3])"
   ]
  },
  {
   "cell_type": "code",
   "execution_count": 353,
   "metadata": {},
   "outputs": [],
   "source": [
    "for i in range(len(iterations)):\n",
    "    mcprices[i] = 10*math.log10( (abs(call_MS(S_0, sigma, T, r, K, int(iterations[i]) ) - prices[i]))/prices[i])"
   ]
  },
  {
   "cell_type": "code",
   "execution_count": 354,
   "metadata": {},
   "outputs": [
    {
     "data": {
      "image/png": "[encoded data removed]",
      "text/plain": [
       "<matplotlib.figure.Figure at 0x1134bf0f0>"
      ]
     },
     "metadata": {},
     "output_type": "display_data"
    }
   ],
   "source": [
    "plt.plot(iterations,mcprices)\n",
    "plt.title('Convergence of MC model')\n",
    "plt.ylabel('error in dB')\n",
    "plt.xlabel('iterations')\n",
    "plt.grid(True)\n",
    "plt.show()"
   ]
  },
  {
   "cell_type": "code",
   "execution_count": 355,
   "metadata": {},
   "outputs": [],
   "source": [
    "iteration=2000\n",
    "meow=np.zeros(1000)"
   ]
  },
  {
   "cell_type": "code",
   "execution_count": 380,
   "metadata": {},
   "outputs": [
    {
     "name": "stdout",
     "output_type": "stream",
     "text": [
      "CPU times: user 46.1 ms, sys: 4.09 ms, total: 50.2 ms\n",
      "Wall time: 49.7 ms\n"
     ]
    }
   ],
   "source": [
    "%%time\n",
    "for n in range(1000):\n",
    "    meow[n]=call_MS(S_0, sigma, T, r, K, iteration) "
   ]
  },
  {
   "cell_type": "markdown",
   "metadata": {},
   "source": [
    "cannot set too much meow, otherwise it's cheating for MC method, each meow increase the iterations!!!!!!"
   ]
  },
  {
   "cell_type": "code",
   "execution_count": 357,
   "metadata": {},
   "outputs": [
    {
     "name": "stdout",
     "output_type": "stream",
     "text": [
      "0.273291363756\n"
     ]
    }
   ],
   "source": [
    "print(100* (abs( price-(meow[1]+meow[2]+meow[3]+meow[4]+meow[5]+meow[6]+meow[7]+meow[8]+meow[9]+meow[10])/10 ))/price)"
   ]
  },
  {
   "cell_type": "code",
   "execution_count": 569,
   "metadata": {},
   "outputs": [
    {
     "name": "stdout",
     "output_type": "stream",
     "text": [
      "707\n"
     ]
    }
   ],
   "source": [
    "n=500000\n",
    "iteration=int(math.sqrt(n))\n",
    "print(iteration)"
   ]
  },
  {
   "cell_type": "code",
   "execution_count": 570,
   "metadata": {},
   "outputs": [
    {
     "name": "stdout",
     "output_type": "stream",
     "text": [
      "CPU times: user 12min 58s, sys: 35.8 s, total: 13min 34s\n",
      "Wall time: 5min 40s\n"
     ]
    }
   ],
   "source": [
    "%%time\n",
    "for n in range(10):\n",
    "    mua=FDM_CN_price(S_0, sigma, T, r, K, iteration) "
   ]
  },
  {
   "cell_type": "code",
   "execution_count": 568,
   "metadata": {},
   "outputs": [
    {
     "name": "stdout",
     "output_type": "stream",
     "text": [
      "3.76459566253e+89\n"
     ]
    }
   ],
   "source": [
    "print(100* (abs( price-(mua)))/price)"
   ]
  },
  {
   "cell_type": "markdown",
   "metadata": {},
   "source": [
    "14 April 2018"
   ]
  },
  {
   "cell_type": "code",
   "execution_count": null,
   "metadata": {},
   "outputs": [],
   "source": []
  }
 ],
 "metadata": {
  "kernelspec": {
   "display_name": "Python 3",
   "language": "python",
   "name": "python3"
  },
  "language_info": {
   "codemirror_mode": {
    "name": "ipython",
    "version": 3
   },
   "file_extension": ".py",
   "mimetype": "text/x-python",
   "name": "python",
   "nbconvert_exporter": "python",
   "pygments_lexer": "ipython3",
   "version": "3.6.3"
  }
 },
 "nbformat": 4,
 "nbformat_minor": 2
}
